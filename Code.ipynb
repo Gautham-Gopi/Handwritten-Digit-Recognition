{
 "cells": [
  {
   "cell_type": "code",
   "execution_count": 1,
   "id": "c6e7e236",
   "metadata": {},
   "outputs": [],
   "source": [
    "import numpy as np\n",
    "import matplotlib.pyplot as plt\n",
    "%matplotlib inline\n",
    "import tensorflow as tf\n",
    "from tensorflow import keras\n",
    "import h5py"
   ]
  },
  {
   "cell_type": "code",
   "execution_count": 2,
   "id": "f48c0b50",
   "metadata": {},
   "outputs": [],
   "source": [
    "hf = h5py.File('SVHN_single_grey1.h5', 'r')"
   ]
  },
  {
   "cell_type": "code",
   "execution_count": 3,
   "id": "3863d7e2",
   "metadata": {},
   "outputs": [
    {
     "data": {
      "text/plain": [
       "<KeysViewHDF5 ['X_test', 'X_train', 'X_val', 'y_test', 'y_train', 'y_val']>"
      ]
     },
     "execution_count": 3,
     "metadata": {},
     "output_type": "execute_result"
    }
   ],
   "source": [
    "hf.keys()"
   ]
  },
  {
   "cell_type": "code",
   "execution_count": 4,
   "id": "cd4ed3a7",
   "metadata": {},
   "outputs": [],
   "source": [
    "x_test=hf.get('X_test')\n",
    "x_test=np.array(x_test)"
   ]
  },
  {
   "cell_type": "code",
   "execution_count": 5,
   "id": "5bb77167",
   "metadata": {},
   "outputs": [],
   "source": [
    "x_train=hf.get('X_train')\n",
    "x_train=np.array(x_train)"
   ]
  },
  {
   "cell_type": "code",
   "execution_count": 6,
   "id": "a6faad63",
   "metadata": {},
   "outputs": [],
   "source": [
    "y_test=hf.get('y_test')\n",
    "y_test=np.array(y_test)"
   ]
  },
  {
   "cell_type": "code",
   "execution_count": 7,
   "id": "5cac8dec",
   "metadata": {},
   "outputs": [],
   "source": [
    "y_train=hf.get('y_train')\n",
    "y_train=np.array(y_train)"
   ]
  },
  {
   "cell_type": "code",
   "execution_count": 8,
   "id": "f64d6128",
   "metadata": {},
   "outputs": [],
   "source": [
    "x_val=hf.get('X_val')\n",
    "x_val=np.array(x_val)\n",
    "y_val=hf.get('Y_val')\n",
    "y_val=np.array(y_val)"
   ]
  },
  {
   "cell_type": "code",
   "execution_count": 9,
   "id": "bfbfafc9",
   "metadata": {},
   "outputs": [
    {
     "data": {
      "text/plain": [
       "<matplotlib.image.AxesImage at 0x1b7b2951250>"
      ]
     },
     "execution_count": 9,
     "metadata": {},
     "output_type": "execute_result"
    },
    {
     "data": {
      "image/png": "[encoded data removed]",
      "text/plain": [
       "<Figure size 288x288 with 1 Axes>"
      ]
     },
     "metadata": {
      "needs_background": "light"
     },
     "output_type": "display_data"
    }
   ],
   "source": [
    "plt.matshow(x_train[20])"
   ]
  },
  {
   "cell_type": "code",
   "execution_count": 10,
   "id": "16561062",
   "metadata": {},
   "outputs": [
    {
     "data": {
      "text/plain": [
       "6"
      ]
     },
     "execution_count": 10,
     "metadata": {},
     "output_type": "execute_result"
    }
   ],
   "source": [
    "y_train[20]"
   ]
  },
  {
   "cell_type": "code",
   "execution_count": 11,
   "id": "2a3294d5",
   "metadata": {},
   "outputs": [
    {
     "data": {
      "text/plain": [
       "array([[ 33.0704,  30.2601,  26.852 , ...,  71.4471,  58.2204,  42.9939],\n",
       "       [ 25.2283,  25.5533,  29.9765, ..., 113.0209, 103.3639,  84.2949],\n",
       "       [ 26.2775,  22.6137,  40.4763, ..., 113.3028, 121.775 , 115.4228],\n",
       "       ...,\n",
       "       [ 28.5502,  36.212 ,  45.0801, ...,  24.1359,  25.0927,  26.0603],\n",
       "       [ 38.4352,  26.4733,  23.2717, ...,  28.1094,  29.4683,  30.0661],\n",
       "       [ 50.2984,  26.0773,  24.0389, ...,  49.6682,  50.853 ,  53.0377]],\n",
       "      dtype=float32)"
      ]
     },
     "execution_count": 11,
     "metadata": {},
     "output_type": "execute_result"
    }
   ],
   "source": [
    "x_train[0]"
   ]
  },
  {
   "cell_type": "code",
   "execution_count": 12,
   "id": "afaeca6f",
   "metadata": {},
   "outputs": [],
   "source": [
    "x_train=x_train/255\n",
    "x_test=x_test/255"
   ]
  },
  {
   "cell_type": "code",
   "execution_count": 13,
   "id": "b846dcc2",
   "metadata": {
    "scrolled": true
   },
   "outputs": [
    {
     "data": {
      "text/plain": [
       "array([[0.12968785, 0.11866706, 0.10530196, ..., 0.2801847 , 0.2283153 ,\n",
       "        0.16860352],\n",
       "       [0.09893451, 0.10020902, 0.1175549 , ..., 0.4432192 , 0.40534863,\n",
       "        0.33056822],\n",
       "       [0.10304902, 0.08868118, 0.15873058, ..., 0.44432473, 0.47754902,\n",
       "        0.45263842],\n",
       "       ...,\n",
       "       [0.11196157, 0.14200786, 0.17678471, ..., 0.09465059, 0.09840274,\n",
       "        0.10219726],\n",
       "       [0.15072627, 0.10381687, 0.09126157, ..., 0.11023294, 0.11556196,\n",
       "        0.11790627],\n",
       "       [0.19724864, 0.10226392, 0.0942702 , ..., 0.19477727, 0.19942354,\n",
       "        0.20799099]], dtype=float32)"
      ]
     },
     "execution_count": 13,
     "metadata": {},
     "output_type": "execute_result"
    }
   ],
   "source": [
    "x_train[0]"
   ]
  },
  {
   "cell_type": "code",
   "execution_count": 14,
   "id": "0e89dd44",
   "metadata": {},
   "outputs": [],
   "source": [
    "from tensorflow.keras.models import Sequential\n",
    "from tensorflow.keras.layers import Dense,Activation,Flatten "
   ]
  },
  {
   "cell_type": "code",
   "execution_count": 15,
   "id": "22a1314f",
   "metadata": {},
   "outputs": [],
   "source": [
    "model=Sequential()"
   ]
  },
  {
   "cell_type": "code",
   "execution_count": 16,
   "id": "de63103f",
   "metadata": {},
   "outputs": [],
   "source": [
    "model.add(Flatten(input_shape=[32,32]))\n",
    "model.add(Dense(200,activation='tanh'))\n",
    "model.add(Dense(200,activation='tanh'))\n",
    "model.add(Dense(200,activation='tanh'))\n",
    "model.add(Dense(10,activation='softmax'))"
   ]
  },
  {
   "cell_type": "code",
   "execution_count": 17,
   "id": "cf5cafaf",
   "metadata": {},
   "outputs": [],
   "source": [
    "model.compile(loss='sparse_categorical_crossentropy',optimizer='adam',metrics=['accuracy'])"
   ]
  },
  {
   "cell_type": "code",
   "execution_count": 18,
   "id": "34ec3e93",
   "metadata": {},
   "outputs": [
    {
     "name": "stdout",
     "output_type": "stream",
     "text": [
      "Model: \"sequential\"\n",
      "_________________________________________________________________\n",
      " Layer (type)                Output Shape              Param #   \n",
      "=================================================================\n",
      " flatten (Flatten)           (None, 1024)              0         \n",
      "                                                                 \n",
      " dense (Dense)               (None, 200)               205000    \n",
      "                                                                 \n",
      " dense_1 (Dense)             (None, 200)               40200     \n",
      "                                                                 \n",
      " dense_2 (Dense)             (None, 200)               40200     \n",
      "                                                                 \n",
      " dense_3 (Dense)             (None, 10)                2010      \n",
      "                                                                 \n",
      "=================================================================\n",
      "Total params: 287,410\n",
      "Trainable params: 287,410\n",
      "Non-trainable params: 0\n",
      "_________________________________________________________________\n"
     ]
    }
   ],
   "source": [
    "model.summary()"
   ]
  },
  {
   "cell_type": "code",
   "execution_count": 19,
   "id": "d0e2b058",
   "metadata": {},
   "outputs": [
    {
     "name": "stdout",
     "output_type": "stream",
     "text": [
      "(42000, 32, 32)\n",
      "(42000,)\n"
     ]
    }
   ],
   "source": [
    "print(x_train.shape)\n",
    "print(y_train.shape)"
   ]
  },
  {
   "cell_type": "code",
   "execution_count": 20,
   "id": "29f82463",
   "metadata": {
    "scrolled": false
   },
   "outputs": [
    {
     "name": "stdout",
     "output_type": "stream",
     "text": [
      "Epoch 1/13\n",
      "1313/1313 [==============================] - 5s 4ms/step - loss: 2.0514 - accuracy: 0.2392\n",
      "Epoch 2/13\n",
      "1313/1313 [==============================] - 5s 4ms/step - loss: 1.2943 - accuracy: 0.5704\n",
      "Epoch 3/13\n",
      "1313/1313 [==============================] - 6s 5ms/step - loss: 1.0983 - accuracy: 0.6470\n",
      "Epoch 4/13\n",
      "1313/1313 [==============================] - 7s 6ms/step - loss: 1.0094 - accuracy: 0.6767\n",
      "Epoch 5/13\n",
      "1313/1313 [==============================] - 6s 5ms/step - loss: 0.9497 - accuracy: 0.6980\n",
      "Epoch 6/13\n",
      "1313/1313 [==============================] - 5s 4ms/step - loss: 0.9011 - accuracy: 0.7117\n",
      "Epoch 7/13\n",
      "1313/1313 [==============================] - 5s 4ms/step - loss: 0.8692 - accuracy: 0.7230\n",
      "Epoch 8/13\n",
      "1313/1313 [==============================] - 5s 4ms/step - loss: 0.8354 - accuracy: 0.7335\n",
      "Epoch 9/13\n",
      "1313/1313 [==============================] - 4s 3ms/step - loss: 0.8180 - accuracy: 0.7399\n",
      "Epoch 10/13\n",
      "1313/1313 [==============================] - 5s 4ms/step - loss: 0.7942 - accuracy: 0.7464\n",
      "Epoch 11/13\n",
      "1313/1313 [==============================] - 5s 3ms/step - loss: 0.7705 - accuracy: 0.7558\n",
      "Epoch 12/13\n",
      "1313/1313 [==============================] - 4s 3ms/step - loss: 0.7564 - accuracy: 0.7588\n",
      "Epoch 13/13\n",
      "1313/1313 [==============================] - 4s 3ms/step - loss: 0.7396 - accuracy: 0.7659\n"
     ]
    },
    {
     "data": {
      "text/plain": [
       "<keras.callbacks.History at 0x1b7b2ab99a0>"
      ]
     },
     "execution_count": 20,
     "metadata": {},
     "output_type": "execute_result"
    }
   ],
   "source": [
    "model.fit(x_train,y_train,epochs=13)"
   ]
  },
  {
   "cell_type": "code",
   "execution_count": 21,
   "id": "17aec14f",
   "metadata": {},
   "outputs": [],
   "source": [
    "y_predict=model.predict(x_test)"
   ]
  },
  {
   "cell_type": "code",
   "execution_count": 36,
   "id": "046d9e3d",
   "metadata": {},
   "outputs": [
    {
     "data": {
      "text/plain": [
       "<matplotlib.image.AxesImage at 0x1b7b91dbfa0>"
      ]
     },
     "execution_count": 36,
     "metadata": {},
     "output_type": "execute_result"
    },
    {
     "data": {
      "image/png": "[encoded data removed]",
      "text/plain": [
       "<Figure size 288x288 with 1 Axes>"
      ]
     },
     "metadata": {
      "needs_background": "light"
     },
     "output_type": "display_data"
    }
   ],
   "source": [
    "plt.matshow(x_test[2])"
   ]
  },
  {
   "cell_type": "code",
   "execution_count": 37,
   "id": "eddf40db",
   "metadata": {},
   "outputs": [
    {
     "data": {
      "text/plain": [
       "array([8.6494561e-05, 4.0334489e-04, 9.8425388e-01, 4.3445728e-03,\n",
       "       3.5911601e-04, 4.1599333e-04, 3.3443917e-05, 3.7485273e-03,\n",
       "       4.8025646e-03, 1.5520523e-03], dtype=float32)"
      ]
     },
     "execution_count": 37,
     "metadata": {},
     "output_type": "execute_result"
    }
   ],
   "source": [
    "y_predict[2]"
   ]
  },
  {
   "cell_type": "code",
   "execution_count": 38,
   "id": "474d992c",
   "metadata": {},
   "outputs": [
    {
     "data": {
      "text/plain": [
       "2"
      ]
     },
     "execution_count": 38,
     "metadata": {},
     "output_type": "execute_result"
    }
   ],
   "source": [
    "np.argmax(y_predict[2])"
   ]
  },
  {
   "cell_type": "code",
   "execution_count": 25,
   "id": "968d7d70",
   "metadata": {},
   "outputs": [
    {
     "name": "stdout",
     "output_type": "stream",
     "text": [
      "563/563 [==============================] - 1s 2ms/step - loss: 0.7530 - accuracy: 0.7672\n"
     ]
    },
    {
     "data": {
      "text/plain": [
       "[0.7530216574668884, 0.7672222256660461]"
      ]
     },
     "execution_count": 25,
     "metadata": {},
     "output_type": "execute_result"
    }
   ],
   "source": [
    "model.evaluate(x_test,y_test)"
   ]
  },
  {
   "cell_type": "code",
   "execution_count": null,
   "id": "ba60f4dd",
   "metadata": {},
   "outputs": [],
   "source": []
  }
 ],
 "metadata": {
  "kernelspec": {
   "display_name": "Python 3",
   "language": "python",
   "name": "python3"
  },
  "language_info": {
   "codemirror_mode": {
    "name": "ipython",
    "version": 3
   },
   "file_extension": ".py",
   "mimetype": "text/x-python",
   "name": "python",
   "nbconvert_exporter": "python",
   "pygments_lexer": "ipython3",
   "version": "3.9.5"
  }
 },
 "nbformat": 4,
 "nbformat_minor": 5
}
